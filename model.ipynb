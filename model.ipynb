{
 "cells": [
  {
   "cell_type": "code",
   "execution_count": 5,
   "metadata": {},
   "outputs": [],
   "source": [
    "#Libraries\n",
    "import pandas as pd\n",
    "import numpy as np\n",
    "import matplotlib.pyplot as plt\n",
    "import seaborn as sns"
   ]
  },
  {
   "cell_type": "code",
   "execution_count": 6,
   "metadata": {},
   "outputs": [
    {
     "name": "stderr",
     "output_type": "stream",
     "text": [
      "/var/folders/v0/9xd212bx5wq454d4gnddf1rm0000gn/T/ipykernel_15097/4056628032.py:3: DtypeWarning: Columns (0,19,49,59,118,129,130,131,134,135,136,139,145,146,147) have mixed types. Specify dtype option on import or set low_memory=False.\n",
      "  dataset_accept = pd.read_csv(path)\n"
     ]
    }
   ],
   "source": [
    "#Datasets\n",
    "path = \"./datasets/accepted_2007_to_2018Q4.csv\"\n",
    "dataset_accept = pd.read_csv(path)"
   ]
  },
  {
   "cell_type": "code",
   "execution_count": 7,
   "metadata": {},
   "outputs": [],
   "source": [
    "#dropping columns that have more than 30% of null values\n",
    "limitPer = len(dataset_accept) * .70\n",
    "dataset = dataset_accept.dropna(thresh=limitPer, axis=1)\n"
   ]
  },
  {
   "cell_type": "code",
   "execution_count": 8,
   "metadata": {},
   "outputs": [
    {
     "data": {
      "text/plain": [
       "loan_status\n",
       "Fully Paid                                             1076751\n",
       "Current                                                 878317\n",
       "Charged Off                                             268559\n",
       "Late (31-120 days)                                       21467\n",
       "In Grace Period                                           8436\n",
       "Late (16-30 days)                                         4349\n",
       "Does not meet the credit policy. Status:Fully Paid        1988\n",
       "Does not meet the credit policy. Status:Charged Off        761\n",
       "Default                                                     40\n",
       "Name: count, dtype: int64"
      ]
     },
     "execution_count": 8,
     "metadata": {},
     "output_type": "execute_result"
    }
   ],
   "source": [
    "dataset[\"loan_status\"].value_counts()"
   ]
  },
  {
   "cell_type": "code",
   "execution_count": 9,
   "metadata": {},
   "outputs": [
    {
     "data": {
      "text/plain": [
       "Index(['id', 'loan_amnt', 'funded_amnt', 'funded_amnt_inv', 'term', 'int_rate',\n",
       "       'installment', 'grade', 'sub_grade', 'emp_title', 'emp_length',\n",
       "       'home_ownership', 'annual_inc', 'verification_status', 'issue_d',\n",
       "       'loan_status', 'pymnt_plan', 'url', 'purpose', 'title', 'zip_code',\n",
       "       'addr_state', 'dti', 'delinq_2yrs', 'earliest_cr_line',\n",
       "       'fico_range_low', 'fico_range_high', 'inq_last_6mths', 'open_acc',\n",
       "       'pub_rec', 'revol_bal', 'revol_util', 'total_acc',\n",
       "       'initial_list_status', 'out_prncp', 'out_prncp_inv', 'total_pymnt',\n",
       "       'total_pymnt_inv', 'total_rec_prncp', 'total_rec_int',\n",
       "       'total_rec_late_fee', 'recoveries', 'collection_recovery_fee',\n",
       "       'last_pymnt_d', 'last_pymnt_amnt', 'last_credit_pull_d',\n",
       "       'last_fico_range_high', 'last_fico_range_low',\n",
       "       'collections_12_mths_ex_med', 'policy_code', 'application_type',\n",
       "       'acc_now_delinq', 'tot_coll_amt', 'tot_cur_bal', 'total_rev_hi_lim',\n",
       "       'acc_open_past_24mths', 'avg_cur_bal', 'bc_open_to_buy', 'bc_util',\n",
       "       'chargeoff_within_12_mths', 'delinq_amnt', 'mo_sin_old_il_acct',\n",
       "       'mo_sin_old_rev_tl_op', 'mo_sin_rcnt_rev_tl_op', 'mo_sin_rcnt_tl',\n",
       "       'mort_acc', 'mths_since_recent_bc', 'mths_since_recent_inq',\n",
       "       'num_accts_ever_120_pd', 'num_actv_bc_tl', 'num_actv_rev_tl',\n",
       "       'num_bc_sats', 'num_bc_tl', 'num_il_tl', 'num_op_rev_tl',\n",
       "       'num_rev_accts', 'num_rev_tl_bal_gt_0', 'num_sats', 'num_tl_120dpd_2m',\n",
       "       'num_tl_30dpd', 'num_tl_90g_dpd_24m', 'num_tl_op_past_12m',\n",
       "       'pct_tl_nvr_dlq', 'percent_bc_gt_75', 'pub_rec_bankruptcies',\n",
       "       'tax_liens', 'tot_hi_cred_lim', 'total_bal_ex_mort', 'total_bc_limit',\n",
       "       'total_il_high_credit_limit', 'hardship_flag', 'disbursement_method',\n",
       "       'debt_settlement_flag'],\n",
       "      dtype='object')"
      ]
     },
     "execution_count": 9,
     "metadata": {},
     "output_type": "execute_result"
    }
   ],
   "source": [
    "#Take rows that loan_status is equal to \"Fully Paid\" or \"Charged Off\"\n",
    "dataset = dataset[(dataset[\"loan_status\"] == \"Fully Paid\") | (dataset[\"loan_status\"] == \"Charged Off\")]\n",
    "dataset.columns"
   ]
  },
  {
   "cell_type": "code",
   "execution_count": 10,
   "metadata": {},
   "outputs": [
    {
     "data": {
      "text/plain": [
       "<Axes: xlabel='loan_amnt', ylabel='Count'>"
      ]
     },
     "execution_count": 10,
     "metadata": {},
     "output_type": "execute_result"
    },
    {
     "data": {
      "image/png": "[encoded data removed]",
      "text/plain": [
       "<Figure size 640x480 with 1 Axes>"
      ]
     },
     "metadata": {},
     "output_type": "display_data"
    }
   ],
   "source": [
    "sns.histplot(dataset[\"loan_amnt\"])"
   ]
  },
  {
   "cell_type": "code",
   "execution_count": 11,
   "metadata": {},
   "outputs": [
    {
     "data": {
      "text/plain": [
       "out_prncp                   1345310\n",
       "out_prncp_inv               1345310\n",
       "delinq_amnt                 1340311\n",
       "acc_now_delinq              1338972\n",
       "chargeoff_within_12_mths    1334414\n",
       "dtype: int64"
      ]
     },
     "execution_count": 11,
     "metadata": {},
     "output_type": "execute_result"
    }
   ],
   "source": [
    "#Top 5 columns with highest count of 0 rows\n",
    "dataset[dataset == 0].count(axis=0).sort_values(ascending = False).head(5)"
   ]
  },
  {
   "cell_type": "code",
   "execution_count": 12,
   "metadata": {},
   "outputs": [],
   "source": [
    "#remove rows with more than 30% of 0 values\n",
    "dataset = dataset.loc[:, 0.7 > (dataset==0).mean()]"
   ]
  },
  {
   "cell_type": "code",
   "execution_count": 13,
   "metadata": {},
   "outputs": [],
   "source": [
    "#drop columns unnecessary for the model\n",
    "dataset = dataset.drop([\"id\",\"url\"], axis = 1)"
   ]
  },
  {
   "cell_type": "code",
   "execution_count": 14,
   "metadata": {},
   "outputs": [
    {
     "data": {
      "text/plain": [
       "loan_amnt                          0\n",
       "policy_code                        0\n",
       "last_fico_range_low                0\n",
       "last_fico_range_high               0\n",
       "total_rec_int                      0\n",
       "total_rec_prncp                    0\n",
       "total_pymnt_inv                    0\n",
       "total_pymnt                        0\n",
       "total_acc                          0\n",
       "revol_bal                          0\n",
       "last_pymnt_amnt                    0\n",
       "fico_range_high                    0\n",
       "fico_range_low                     0\n",
       "annual_inc                         0\n",
       "installment                        0\n",
       "int_rate                           0\n",
       "funded_amnt_inv                    0\n",
       "funded_amnt                        0\n",
       "open_acc                           0\n",
       "inq_last_6mths                     1\n",
       "dti                              374\n",
       "revol_util                       857\n",
       "mort_acc                       47281\n",
       "total_bc_limit                 47281\n",
       "acc_open_past_24mths           47281\n",
       "total_bal_ex_mort              47281\n",
       "num_sats                       55841\n",
       "num_bc_sats                    55841\n",
       "mths_since_recent_bc           60221\n",
       "bc_open_to_buy                 61143\n",
       "percent_bc_gt_75               61555\n",
       "bc_util                        61912\n",
       "num_tl_op_past_12m             67527\n",
       "num_rev_tl_bal_gt_0            67527\n",
       "num_bc_tl                      67527\n",
       "num_op_rev_tl                  67527\n",
       "num_il_tl                      67527\n",
       "tot_hi_cred_lim                67527\n",
       "total_il_high_credit_limit     67527\n",
       "num_actv_bc_tl                 67527\n",
       "mo_sin_rcnt_tl                 67527\n",
       "total_rev_hi_lim               67527\n",
       "tot_cur_bal                    67527\n",
       "num_actv_rev_tl                67527\n",
       "num_rev_accts                  67528\n",
       "mo_sin_rcnt_rev_tl_op          67528\n",
       "mo_sin_old_rev_tl_op           67528\n",
       "avg_cur_bal                    67549\n",
       "pct_tl_nvr_dlq                 67681\n",
       "mo_sin_old_il_acct            105575\n",
       "mths_since_recent_inq         174071\n",
       "dtype: int64"
      ]
     },
     "execution_count": 14,
     "metadata": {},
     "output_type": "execute_result"
    }
   ],
   "source": [
    "dataset_num = dataset.select_dtypes(include=\"number\")\n",
    "dataset_num.isna().sum().sort_values()"
   ]
  },
  {
   "cell_type": "code",
   "execution_count": 16,
   "metadata": {},
   "outputs": [
    {
     "data": {
      "text/plain": [
       "73"
      ]
     },
     "execution_count": 16,
     "metadata": {},
     "output_type": "execute_result"
    }
   ],
   "source": [
    "#number of columns after dropping columns with more than 30% of 0s and null values\n",
    "len(dataset.columns)"
   ]
  },
  {
   "cell_type": "code",
   "execution_count": 16,
   "metadata": {},
   "outputs": [],
   "source": [
    "dataset[\"term_in_months\"] = dataset[\"term\"].str.extract('(\\d+)')\n",
    "dataset[\"emp_length_in_years\"] = dataset[\"emp_length\"].str.extract('(\\d+)')"
   ]
  },
  {
   "cell_type": "code",
   "execution_count": 17,
   "metadata": {},
   "outputs": [],
   "source": [
    "dataset = dataset.drop([\"term\", \"emp_length\"], axis = 1)"
   ]
  },
  {
   "cell_type": "code",
   "execution_count": 18,
   "metadata": {},
   "outputs": [
    {
     "data": {
      "text/plain": [
       "term_in_months\n",
       "36    0.159934\n",
       "60    0.324454\n",
       "Name: proportion, dtype: float64"
      ]
     },
     "execution_count": 18,
     "metadata": {},
     "output_type": "execute_result"
    }
   ],
   "source": [
    "dataset.groupby('term_in_months')['loan_status'].value_counts(normalize=True).loc[:,'Charged Off']"
   ]
  },
  {
   "cell_type": "code",
   "execution_count": 21,
   "metadata": {},
   "outputs": [
    {
     "data": {
      "text/plain": [
       "Index(['loan_amnt', 'funded_amnt', 'funded_amnt_inv', 'int_rate',\n",
       "       'installment', 'grade', 'sub_grade', 'emp_title', 'home_ownership',\n",
       "       'annual_inc', 'verification_status', 'issue_d', 'loan_status',\n",
       "       'pymnt_plan', 'purpose', 'title', 'zip_code', 'addr_state', 'dti',\n",
       "       'earliest_cr_line', 'fico_range_low', 'fico_range_high',\n",
       "       'inq_last_6mths', 'open_acc', 'revol_bal', 'revol_util', 'total_acc',\n",
       "       'initial_list_status', 'total_pymnt', 'total_pymnt_inv',\n",
       "       'total_rec_prncp', 'total_rec_int', 'last_pymnt_d', 'last_pymnt_amnt',\n",
       "       'last_credit_pull_d', 'last_fico_range_high', 'last_fico_range_low',\n",
       "       'policy_code', 'application_type', 'tot_cur_bal', 'total_rev_hi_lim',\n",
       "       'acc_open_past_24mths', 'avg_cur_bal', 'bc_open_to_buy', 'bc_util',\n",
       "       'mo_sin_old_il_acct', 'mo_sin_old_rev_tl_op', 'mo_sin_rcnt_rev_tl_op',\n",
       "       'mo_sin_rcnt_tl', 'mort_acc', 'mths_since_recent_bc',\n",
       "       'mths_since_recent_inq', 'num_actv_bc_tl', 'num_actv_rev_tl',\n",
       "       'num_bc_sats', 'num_bc_tl', 'num_il_tl', 'num_op_rev_tl',\n",
       "       'num_rev_accts', 'num_rev_tl_bal_gt_0', 'num_sats',\n",
       "       'num_tl_op_past_12m', 'pct_tl_nvr_dlq', 'percent_bc_gt_75',\n",
       "       'tot_hi_cred_lim', 'total_bal_ex_mort', 'total_bc_limit',\n",
       "       'total_il_high_credit_limit', 'hardship_flag', 'disbursement_method',\n",
       "       'debt_settlement_flag', 'term_in_months', 'emp_length_in_years'],\n",
       "      dtype='object')"
      ]
     },
     "execution_count": 21,
     "metadata": {},
     "output_type": "execute_result"
    }
   ],
   "source": [
    "dataset.columns"
   ]
  },
  {
   "cell_type": "code",
   "execution_count": 34,
   "metadata": {},
   "outputs": [],
   "source": [
    "#correlation only takes numeric data\n",
    "numeric_data = dataset.select_dtypes(include='number')\n",
    "#add a numeric category of loan status where 1 if 'Fully Paid' and 0 if 'Charged Off'\n",
    "numeric_data['loan_status_num'] = dataset['loan_status'].replace({'Fully Paid': 1, 'Charged Off': 0})\n",
    "data_corr = numeric_data.corr()"
   ]
  },
  {
   "cell_type": "code",
   "execution_count": 32,
   "metadata": {},
   "outputs": [
    {
     "data": {
      "text/plain": [
       "loan_status_num         1.000000\n",
       "last_fico_range_high    0.667842\n",
       "last_fico_range_low     0.575706\n",
       "total_rec_prncp         0.438944\n",
       "last_pymnt_amnt         0.347385\n",
       "total_pymnt             0.315180\n",
       "total_pymnt_inv         0.314751\n",
       "fico_range_low          0.130683\n",
       "fico_range_high         0.130682\n",
       "bc_open_to_buy          0.082044\n",
       "Name: loan_status_num, dtype: float64"
      ]
     },
     "execution_count": 32,
     "metadata": {},
     "output_type": "execute_result"
    }
   ],
   "source": [
    "data_corr[\"loan_status_num\"].sort_values(ascending = False).head(10)"
   ]
  },
  {
   "cell_type": "code",
   "execution_count": null,
   "metadata": {},
   "outputs": [],
   "source": [
    "data"
   ]
  },
  {
   "cell_type": "code",
   "execution_count": 33,
   "metadata": {},
   "outputs": [
    {
     "data": {
      "text/html": [
       "<div>\n",
       "<style scoped>\n",
       "    .dataframe tbody tr th:only-of-type {\n",
       "        vertical-align: middle;\n",
       "    }\n",
       "\n",
       "    .dataframe tbody tr th {\n",
       "        vertical-align: top;\n",
       "    }\n",
       "\n",
       "    .dataframe thead th {\n",
       "        text-align: right;\n",
       "    }\n",
       "</style>\n",
       "<table border=\"1\" class=\"dataframe\">\n",
       "  <thead>\n",
       "    <tr style=\"text-align: right;\">\n",
       "      <th></th>\n",
       "      <th>loan_amnt</th>\n",
       "      <th>int_rate</th>\n",
       "      <th>installment</th>\n",
       "      <th>sub_grade</th>\n",
       "      <th>emp_title</th>\n",
       "      <th>home_ownership</th>\n",
       "      <th>annual_inc</th>\n",
       "      <th>verification_status</th>\n",
       "      <th>issue_d</th>\n",
       "      <th>loan_status</th>\n",
       "      <th>...</th>\n",
       "      <th>percent_bc_gt_75</th>\n",
       "      <th>tot_hi_cred_lim</th>\n",
       "      <th>total_bal_ex_mort</th>\n",
       "      <th>total_bc_limit</th>\n",
       "      <th>total_il_high_credit_limit</th>\n",
       "      <th>hardship_flag</th>\n",
       "      <th>disbursement_method</th>\n",
       "      <th>debt_settlement_flag</th>\n",
       "      <th>term_in_months</th>\n",
       "      <th>emp_length_in_years</th>\n",
       "    </tr>\n",
       "  </thead>\n",
       "  <tbody>\n",
       "    <tr>\n",
       "      <th>0</th>\n",
       "      <td>3600.0</td>\n",
       "      <td>13.99</td>\n",
       "      <td>123.03</td>\n",
       "      <td>C4</td>\n",
       "      <td>leadman</td>\n",
       "      <td>MORTGAGE</td>\n",
       "      <td>55000.0</td>\n",
       "      <td>Not Verified</td>\n",
       "      <td>Dec-2015</td>\n",
       "      <td>Fully Paid</td>\n",
       "      <td>...</td>\n",
       "      <td>0.0</td>\n",
       "      <td>178050.0</td>\n",
       "      <td>7746.0</td>\n",
       "      <td>2400.0</td>\n",
       "      <td>13734.0</td>\n",
       "      <td>N</td>\n",
       "      <td>Cash</td>\n",
       "      <td>N</td>\n",
       "      <td>36</td>\n",
       "      <td>10</td>\n",
       "    </tr>\n",
       "    <tr>\n",
       "      <th>1</th>\n",
       "      <td>24700.0</td>\n",
       "      <td>11.99</td>\n",
       "      <td>820.28</td>\n",
       "      <td>C1</td>\n",
       "      <td>Engineer</td>\n",
       "      <td>MORTGAGE</td>\n",
       "      <td>65000.0</td>\n",
       "      <td>Not Verified</td>\n",
       "      <td>Dec-2015</td>\n",
       "      <td>Fully Paid</td>\n",
       "      <td>...</td>\n",
       "      <td>7.7</td>\n",
       "      <td>314017.0</td>\n",
       "      <td>39475.0</td>\n",
       "      <td>79300.0</td>\n",
       "      <td>24667.0</td>\n",
       "      <td>N</td>\n",
       "      <td>Cash</td>\n",
       "      <td>N</td>\n",
       "      <td>36</td>\n",
       "      <td>10</td>\n",
       "    </tr>\n",
       "    <tr>\n",
       "      <th>2</th>\n",
       "      <td>20000.0</td>\n",
       "      <td>10.78</td>\n",
       "      <td>432.66</td>\n",
       "      <td>B4</td>\n",
       "      <td>truck driver</td>\n",
       "      <td>MORTGAGE</td>\n",
       "      <td>63000.0</td>\n",
       "      <td>Not Verified</td>\n",
       "      <td>Dec-2015</td>\n",
       "      <td>Fully Paid</td>\n",
       "      <td>...</td>\n",
       "      <td>50.0</td>\n",
       "      <td>218418.0</td>\n",
       "      <td>18696.0</td>\n",
       "      <td>6200.0</td>\n",
       "      <td>14877.0</td>\n",
       "      <td>N</td>\n",
       "      <td>Cash</td>\n",
       "      <td>N</td>\n",
       "      <td>60</td>\n",
       "      <td>10</td>\n",
       "    </tr>\n",
       "    <tr>\n",
       "      <th>4</th>\n",
       "      <td>10400.0</td>\n",
       "      <td>22.45</td>\n",
       "      <td>289.91</td>\n",
       "      <td>F1</td>\n",
       "      <td>Contract Specialist</td>\n",
       "      <td>MORTGAGE</td>\n",
       "      <td>104433.0</td>\n",
       "      <td>Source Verified</td>\n",
       "      <td>Dec-2015</td>\n",
       "      <td>Fully Paid</td>\n",
       "      <td>...</td>\n",
       "      <td>60.0</td>\n",
       "      <td>439570.0</td>\n",
       "      <td>95768.0</td>\n",
       "      <td>20300.0</td>\n",
       "      <td>88097.0</td>\n",
       "      <td>N</td>\n",
       "      <td>Cash</td>\n",
       "      <td>N</td>\n",
       "      <td>60</td>\n",
       "      <td>3</td>\n",
       "    </tr>\n",
       "    <tr>\n",
       "      <th>5</th>\n",
       "      <td>11950.0</td>\n",
       "      <td>13.44</td>\n",
       "      <td>405.18</td>\n",
       "      <td>C3</td>\n",
       "      <td>Veterinary Tecnician</td>\n",
       "      <td>RENT</td>\n",
       "      <td>34000.0</td>\n",
       "      <td>Source Verified</td>\n",
       "      <td>Dec-2015</td>\n",
       "      <td>Fully Paid</td>\n",
       "      <td>...</td>\n",
       "      <td>100.0</td>\n",
       "      <td>16900.0</td>\n",
       "      <td>12798.0</td>\n",
       "      <td>9400.0</td>\n",
       "      <td>4000.0</td>\n",
       "      <td>N</td>\n",
       "      <td>Cash</td>\n",
       "      <td>N</td>\n",
       "      <td>36</td>\n",
       "      <td>4</td>\n",
       "    </tr>\n",
       "    <tr>\n",
       "      <th>...</th>\n",
       "      <td>...</td>\n",
       "      <td>...</td>\n",
       "      <td>...</td>\n",
       "      <td>...</td>\n",
       "      <td>...</td>\n",
       "      <td>...</td>\n",
       "      <td>...</td>\n",
       "      <td>...</td>\n",
       "      <td>...</td>\n",
       "      <td>...</td>\n",
       "      <td>...</td>\n",
       "      <td>...</td>\n",
       "      <td>...</td>\n",
       "      <td>...</td>\n",
       "      <td>...</td>\n",
       "      <td>...</td>\n",
       "      <td>...</td>\n",
       "      <td>...</td>\n",
       "      <td>...</td>\n",
       "      <td>...</td>\n",
       "      <td>...</td>\n",
       "    </tr>\n",
       "    <tr>\n",
       "      <th>2260688</th>\n",
       "      <td>18000.0</td>\n",
       "      <td>9.49</td>\n",
       "      <td>377.95</td>\n",
       "      <td>B2</td>\n",
       "      <td>NaN</td>\n",
       "      <td>OWN</td>\n",
       "      <td>130000.0</td>\n",
       "      <td>Not Verified</td>\n",
       "      <td>Oct-2016</td>\n",
       "      <td>Fully Paid</td>\n",
       "      <td>...</td>\n",
       "      <td>33.3</td>\n",
       "      <td>275356.0</td>\n",
       "      <td>54349.0</td>\n",
       "      <td>13100.0</td>\n",
       "      <td>77756.0</td>\n",
       "      <td>N</td>\n",
       "      <td>Cash</td>\n",
       "      <td>N</td>\n",
       "      <td>60</td>\n",
       "      <td>5</td>\n",
       "    </tr>\n",
       "    <tr>\n",
       "      <th>2260690</th>\n",
       "      <td>29400.0</td>\n",
       "      <td>13.99</td>\n",
       "      <td>683.94</td>\n",
       "      <td>C3</td>\n",
       "      <td>Chief Operating Officer</td>\n",
       "      <td>MORTGAGE</td>\n",
       "      <td>180792.0</td>\n",
       "      <td>Not Verified</td>\n",
       "      <td>Oct-2016</td>\n",
       "      <td>Fully Paid</td>\n",
       "      <td>...</td>\n",
       "      <td>42.9</td>\n",
       "      <td>719056.0</td>\n",
       "      <td>148305.0</td>\n",
       "      <td>56500.0</td>\n",
       "      <td>95702.0</td>\n",
       "      <td>N</td>\n",
       "      <td>Cash</td>\n",
       "      <td>N</td>\n",
       "      <td>60</td>\n",
       "      <td>9</td>\n",
       "    </tr>\n",
       "    <tr>\n",
       "      <th>2260691</th>\n",
       "      <td>32000.0</td>\n",
       "      <td>14.49</td>\n",
       "      <td>752.74</td>\n",
       "      <td>C4</td>\n",
       "      <td>Sales Manager</td>\n",
       "      <td>MORTGAGE</td>\n",
       "      <td>157000.0</td>\n",
       "      <td>Source Verified</td>\n",
       "      <td>Oct-2016</td>\n",
       "      <td>Charged Off</td>\n",
       "      <td>...</td>\n",
       "      <td>0.0</td>\n",
       "      <td>524379.0</td>\n",
       "      <td>122872.0</td>\n",
       "      <td>15800.0</td>\n",
       "      <td>23879.0</td>\n",
       "      <td>N</td>\n",
       "      <td>Cash</td>\n",
       "      <td>N</td>\n",
       "      <td>60</td>\n",
       "      <td>3</td>\n",
       "    </tr>\n",
       "    <tr>\n",
       "      <th>2260692</th>\n",
       "      <td>16000.0</td>\n",
       "      <td>12.79</td>\n",
       "      <td>362.34</td>\n",
       "      <td>C1</td>\n",
       "      <td>Manager</td>\n",
       "      <td>RENT</td>\n",
       "      <td>150000.0</td>\n",
       "      <td>Not Verified</td>\n",
       "      <td>Oct-2016</td>\n",
       "      <td>Fully Paid</td>\n",
       "      <td>...</td>\n",
       "      <td>50.0</td>\n",
       "      <td>87473.0</td>\n",
       "      <td>65797.0</td>\n",
       "      <td>10100.0</td>\n",
       "      <td>73473.0</td>\n",
       "      <td>N</td>\n",
       "      <td>Cash</td>\n",
       "      <td>N</td>\n",
       "      <td>60</td>\n",
       "      <td>10</td>\n",
       "    </tr>\n",
       "    <tr>\n",
       "      <th>2260697</th>\n",
       "      <td>24000.0</td>\n",
       "      <td>14.49</td>\n",
       "      <td>564.56</td>\n",
       "      <td>C4</td>\n",
       "      <td>Program Manager</td>\n",
       "      <td>RENT</td>\n",
       "      <td>110000.0</td>\n",
       "      <td>Not Verified</td>\n",
       "      <td>Oct-2016</td>\n",
       "      <td>Charged Off</td>\n",
       "      <td>...</td>\n",
       "      <td>40.0</td>\n",
       "      <td>84664.0</td>\n",
       "      <td>62426.0</td>\n",
       "      <td>20700.0</td>\n",
       "      <td>58764.0</td>\n",
       "      <td>N</td>\n",
       "      <td>Cash</td>\n",
       "      <td>Y</td>\n",
       "      <td>60</td>\n",
       "      <td>6</td>\n",
       "    </tr>\n",
       "  </tbody>\n",
       "</table>\n",
       "<p>1345310 rows × 64 columns</p>\n",
       "</div>"
      ],
      "text/plain": [
       "         loan_amnt  int_rate  installment sub_grade                emp_title  \\\n",
       "0           3600.0     13.99       123.03        C4                  leadman   \n",
       "1          24700.0     11.99       820.28        C1                 Engineer   \n",
       "2          20000.0     10.78       432.66        B4             truck driver   \n",
       "4          10400.0     22.45       289.91        F1      Contract Specialist   \n",
       "5          11950.0     13.44       405.18        C3     Veterinary Tecnician   \n",
       "...            ...       ...          ...       ...                      ...   \n",
       "2260688    18000.0      9.49       377.95        B2                      NaN   \n",
       "2260690    29400.0     13.99       683.94        C3  Chief Operating Officer   \n",
       "2260691    32000.0     14.49       752.74        C4            Sales Manager   \n",
       "2260692    16000.0     12.79       362.34        C1                  Manager   \n",
       "2260697    24000.0     14.49       564.56        C4          Program Manager   \n",
       "\n",
       "        home_ownership  annual_inc verification_status   issue_d  loan_status  \\\n",
       "0             MORTGAGE     55000.0        Not Verified  Dec-2015   Fully Paid   \n",
       "1             MORTGAGE     65000.0        Not Verified  Dec-2015   Fully Paid   \n",
       "2             MORTGAGE     63000.0        Not Verified  Dec-2015   Fully Paid   \n",
       "4             MORTGAGE    104433.0     Source Verified  Dec-2015   Fully Paid   \n",
       "5                 RENT     34000.0     Source Verified  Dec-2015   Fully Paid   \n",
       "...                ...         ...                 ...       ...          ...   \n",
       "2260688            OWN    130000.0        Not Verified  Oct-2016   Fully Paid   \n",
       "2260690       MORTGAGE    180792.0        Not Verified  Oct-2016   Fully Paid   \n",
       "2260691       MORTGAGE    157000.0     Source Verified  Oct-2016  Charged Off   \n",
       "2260692           RENT    150000.0        Not Verified  Oct-2016   Fully Paid   \n",
       "2260697           RENT    110000.0        Not Verified  Oct-2016  Charged Off   \n",
       "\n",
       "         ... percent_bc_gt_75 tot_hi_cred_lim total_bal_ex_mort  \\\n",
       "0        ...              0.0        178050.0            7746.0   \n",
       "1        ...              7.7        314017.0           39475.0   \n",
       "2        ...             50.0        218418.0           18696.0   \n",
       "4        ...             60.0        439570.0           95768.0   \n",
       "5        ...            100.0         16900.0           12798.0   \n",
       "...      ...              ...             ...               ...   \n",
       "2260688  ...             33.3        275356.0           54349.0   \n",
       "2260690  ...             42.9        719056.0          148305.0   \n",
       "2260691  ...              0.0        524379.0          122872.0   \n",
       "2260692  ...             50.0         87473.0           65797.0   \n",
       "2260697  ...             40.0         84664.0           62426.0   \n",
       "\n",
       "         total_bc_limit total_il_high_credit_limit  hardship_flag  \\\n",
       "0                2400.0                    13734.0              N   \n",
       "1               79300.0                    24667.0              N   \n",
       "2                6200.0                    14877.0              N   \n",
       "4               20300.0                    88097.0              N   \n",
       "5                9400.0                     4000.0              N   \n",
       "...                 ...                        ...            ...   \n",
       "2260688         13100.0                    77756.0              N   \n",
       "2260690         56500.0                    95702.0              N   \n",
       "2260691         15800.0                    23879.0              N   \n",
       "2260692         10100.0                    73473.0              N   \n",
       "2260697         20700.0                    58764.0              N   \n",
       "\n",
       "         disbursement_method  debt_settlement_flag  term_in_months  \\\n",
       "0                       Cash                     N              36   \n",
       "1                       Cash                     N              36   \n",
       "2                       Cash                     N              60   \n",
       "4                       Cash                     N              60   \n",
       "5                       Cash                     N              36   \n",
       "...                      ...                   ...             ...   \n",
       "2260688                 Cash                     N              60   \n",
       "2260690                 Cash                     N              60   \n",
       "2260691                 Cash                     N              60   \n",
       "2260692                 Cash                     N              60   \n",
       "2260697                 Cash                     Y              60   \n",
       "\n",
       "         emp_length_in_years  \n",
       "0                         10  \n",
       "1                         10  \n",
       "2                         10  \n",
       "4                          3  \n",
       "5                          4  \n",
       "...                      ...  \n",
       "2260688                    5  \n",
       "2260690                    9  \n",
       "2260691                    3  \n",
       "2260692                   10  \n",
       "2260697                    6  \n",
       "\n",
       "[1345310 rows x 64 columns]"
      ]
     },
     "execution_count": 33,
     "metadata": {},
     "output_type": "execute_result"
    }
   ],
   "source": [
    "#drop policy_code since correlation is null \n",
    "dataset.drop([\"funded_amnt\", \"funded_amnt_inv\", \"total_pymnt_inv\",'fico_range_low', 'title', 'zip_code', 'application_type','grade', \"policy_code\"], axis = 1)"
   ]
  },
  {
   "cell_type": "code",
   "execution_count": 62,
   "metadata": {},
   "outputs": [],
   "source": [
    "#'loan_amnt', 'funded_amnt', and 'funded_amnt_inv' have high correlation, so I dropped [\"funded_amnt\", \"funded_amnt_inv\"] \n",
    "# to avoid multicollinearity"
   ]
  },
  {
   "cell_type": "code",
   "execution_count": 63,
   "metadata": {},
   "outputs": [],
   "source": [
    "# features_to_use = [\"loan_status\",\"loan_amnt\",\"int_rate\", 'sub_grade', \"installment\"\n",
    "# , \"home_ownership\", \"annual_inc\", \"fico_range_high\", \"purpose\", \"term_in_months\", \"revol_bal\"]\n",
    "features_to_use = [\"last_fico_range_high\", \"total_rec_prncp\", \"last_fico_range_low\", \"total_rec_prncp\", \"last_pymnt_amnt\", \"\"]"
   ]
  },
  {
   "cell_type": "code",
   "execution_count": 64,
   "metadata": {},
   "outputs": [],
   "source": [
    "features_selected_dataset = dataset.loc[:, features_to_use]"
   ]
  },
  {
   "cell_type": "code",
   "execution_count": 65,
   "metadata": {},
   "outputs": [
    {
     "data": {
      "text/plain": [
       "loan_status        0\n",
       "loan_amnt          0\n",
       "int_rate           0\n",
       "sub_grade          0\n",
       "installment        0\n",
       "home_ownership     0\n",
       "annual_inc         0\n",
       "fico_range_high    0\n",
       "purpose            0\n",
       "term_in_months     0\n",
       "revol_bal          0\n",
       "dtype: int64"
      ]
     },
     "execution_count": 65,
     "metadata": {},
     "output_type": "execute_result"
    }
   ],
   "source": [
    "features_selected_dataset.isna().sum()"
   ]
  },
  {
   "cell_type": "code",
   "execution_count": 20,
   "metadata": {},
   "outputs": [
    {
     "data": {
      "text/plain": [
       "<Axes: >"
      ]
     },
     "execution_count": 20,
     "metadata": {},
     "output_type": "execute_result"
    },
    {
     "data": {
      "image/png": "[encoded data removed]",
      "text/plain": [
       "<Figure size 640x480 with 2 Axes>"
      ]
     },
     "metadata": {},
     "output_type": "display_data"
    }
   ],
   "source": [
    "#correlation only takes numeric data\n",
    "numeric_data = features_selected_dataset.select_dtypes(include='number')\n",
    "#add a numeric category of loan status where 1 if 'Fully Paid' and 0 if 'Charged Off'\n",
    "numeric_data['loan_status_num'] = features_selected_dataset['loan_status'].replace({'Fully Paid': 1, 'Charged Off': 0})\n",
    "data_corr = numeric_data.corr()\n",
    "sns.heatmap(data_corr)"
   ]
  },
  {
   "cell_type": "code",
   "execution_count": 21,
   "metadata": {},
   "outputs": [],
   "source": [
    "def log_transform(data, col):\n",
    "    \"\"\"Add the log transformation of a column to the data frame\"\"\"\n",
    "    data['Log ' + col] = np.log(data[col]+1)\n",
    "    return data"
   ]
  },
  {
   "cell_type": "code",
   "execution_count": 22,
   "metadata": {},
   "outputs": [
    {
     "data": {
      "text/plain": [
       "loan_status_num    1.000000\n",
       "fico_range_high    0.130682\n",
       "annual_inc         0.041759\n",
       "revol_bal          0.020010\n",
       "installment       -0.051701\n",
       "loan_amnt         -0.065604\n",
       "int_rate          -0.258792\n",
       "Name: loan_status_num, dtype: float64"
      ]
     },
     "execution_count": 22,
     "metadata": {},
     "output_type": "execute_result"
    }
   ],
   "source": [
    "#Columns with highest correlation to loan_status \n",
    "data_corr['loan_status_num'].sort_values(ascending = False)"
   ]
  },
  {
   "cell_type": "code",
   "execution_count": 23,
   "metadata": {},
   "outputs": [],
   "source": [
    "#One Hot Encoding Categorical Variables \n",
    "features_selected_dataset[\"loan_status\"] = features_selected_dataset['loan_status'].replace({'Fully Paid': 1, 'Charged Off': 0})\n",
    "# features_selected_dataset = pd.get_dummies(features_selected_dataset, drop_first=True)"
   ]
  },
  {
   "cell_type": "code",
   "execution_count": 24,
   "metadata": {},
   "outputs": [
    {
     "data": {
      "text/plain": [
       "home_ownership\n",
       "MORTGAGE    665579\n",
       "RENT        534421\n",
       "OWN         144832\n",
       "ANY            286\n",
       "OTHER          144\n",
       "NONE            48\n",
       "Name: count, dtype: int64"
      ]
     },
     "execution_count": 24,
     "metadata": {},
     "output_type": "execute_result"
    }
   ],
   "source": [
    "features_selected_dataset[\"home_ownership\"].value_counts()"
   ]
  },
  {
   "cell_type": "code",
   "execution_count": 25,
   "metadata": {},
   "outputs": [
    {
     "data": {
      "text/plain": [
       "home_ownership  loan_status\n",
       "ANY             1              0.804196\n",
       "                0              0.195804\n",
       "MORTGAGE        1              0.827923\n",
       "                0              0.172077\n",
       "NONE            1              0.854167\n",
       "                0              0.145833\n",
       "OTHER           1              0.812500\n",
       "                0              0.187500\n",
       "OWN             1              0.793802\n",
       "                0              0.206198\n",
       "RENT            1              0.767835\n",
       "                0              0.232165\n",
       "Name: proportion, dtype: float64"
      ]
     },
     "execution_count": 25,
     "metadata": {},
     "output_type": "execute_result"
    }
   ],
   "source": [
    "features_selected_dataset.groupby(\"home_ownership\")[\"loan_status\"].value_counts(normalize=True)"
   ]
  },
  {
   "cell_type": "code",
   "execution_count": 26,
   "metadata": {},
   "outputs": [],
   "source": [
    "features_selected_dataset[\"home_ownership\"] = features_selected_dataset['home_ownership'].replace({'NONE': 'OTHER', 'ANY': 'OTHER'})"
   ]
  },
  {
   "cell_type": "code",
   "execution_count": 27,
   "metadata": {},
   "outputs": [],
   "source": [
    "Q1 = features_selected_dataset['annual_inc'].quantile(0.25)\n",
    "median = features_selected_dataset['annual_inc'].quantile(0.5)\n",
    "Q3 = features_selected_dataset['annual_inc'].quantile(0.75)"
   ]
  },
  {
   "cell_type": "code",
   "execution_count": 28,
   "metadata": {},
   "outputs": [],
   "source": [
    "#remove_outliers\n",
    "dataset_no_outliers = features_selected_dataset[(features_selected_dataset[\"annual_inc\"] < features_selected_dataset['annual_inc'].quantile(0.95)) \n",
    "                    & (features_selected_dataset[\"annual_inc\"] > features_selected_dataset['annual_inc'].quantile(0.05))]"
   ]
  },
  {
   "cell_type": "code",
   "execution_count": 29,
   "metadata": {},
   "outputs": [
    {
     "data": {
      "text/plain": [
       "<Axes: xlabel='annual_inc', ylabel='Count'>"
      ]
     },
     "execution_count": 29,
     "metadata": {},
     "output_type": "execute_result"
    },
    {
     "data": {
      "image/png": "[encoded data removed]",
      "text/plain": [
       "<Figure size 640x480 with 1 Axes>"
      ]
     },
     "metadata": {},
     "output_type": "display_data"
    }
   ],
   "source": [
    "sns.histplot(dataset_no_outliers[\"annual_inc\"])"
   ]
  },
  {
   "cell_type": "code",
   "execution_count": 30,
   "metadata": {},
   "outputs": [
    {
     "name": "stderr",
     "output_type": "stream",
     "text": [
      "/var/folders/v0/9xd212bx5wq454d4gnddf1rm0000gn/T/ipykernel_12780/948889945.py:2: SettingWithCopyWarning: \n",
      "A value is trying to be set on a copy of a slice from a DataFrame.\n",
      "Try using .loc[row_indexer,col_indexer] = value instead\n",
      "\n",
      "See the caveats in the documentation: https://pandas.pydata.org/pandas-docs/stable/user_guide/indexing.html#returning-a-view-versus-a-copy\n",
      "  dataset_no_outliers[\"Log_annual_inc\"] = np.log(dataset_no_outliers[\"annual_inc\"])\n"
     ]
    }
   ],
   "source": [
    "#normalize annual_inc \n",
    "dataset_no_outliers[\"Log_annual_inc\"] = np.log(dataset_no_outliers[\"annual_inc\"])"
   ]
  },
  {
   "cell_type": "code",
   "execution_count": 31,
   "metadata": {},
   "outputs": [
    {
     "data": {
      "text/plain": [
       "0.7998804013273628"
      ]
     },
     "execution_count": 31,
     "metadata": {},
     "output_type": "execute_result"
    }
   ],
   "source": [
    "#Baseline Accuracy\n",
    "dataset_no_outliers[\"loan_status\"].value_counts()[1]/len(dataset_no_outliers)"
   ]
  },
  {
   "cell_type": "code",
   "execution_count": 32,
   "metadata": {},
   "outputs": [],
   "source": [
    "ohe_dataset = pd.get_dummies(dataset_no_outliers, drop_first = True)"
   ]
  },
  {
   "cell_type": "code",
   "execution_count": 33,
   "metadata": {},
   "outputs": [
    {
     "data": {
      "text/plain": [
       "loan_status                   1.000000\n",
       "fico_range_high               0.130445\n",
       "sub_grade_A4                  0.066134\n",
       "sub_grade_A5                  0.065477\n",
       "sub_grade_A2                  0.064805\n",
       "sub_grade_A3                  0.061619\n",
       "sub_grade_B1                  0.057579\n",
       "Log_annual_inc                0.057002\n",
       "annual_inc                    0.056129\n",
       "sub_grade_B2                  0.052900\n",
       "sub_grade_B3                  0.045488\n",
       "purpose_credit_card           0.040740\n",
       "sub_grade_B4                  0.033994\n",
       "sub_grade_B5                  0.021893\n",
       "purpose_home_improvement      0.013247\n",
       "revol_bal                     0.010021\n",
       "purpose_wedding               0.008401\n",
       "sub_grade_C1                  0.006868\n",
       "purpose_major_purchase        0.004929\n",
       "purpose_vacation              0.001793\n",
       "purpose_educational           0.001301\n",
       "home_ownership_OTHER          0.000203\n",
       "purpose_renewable_energy     -0.002548\n",
       "sub_grade_C2                 -0.003282\n",
       "purpose_house                -0.004375\n",
       "purpose_medical              -0.004452\n",
       "home_ownership_OWN           -0.004651\n",
       "purpose_other                -0.005964\n",
       "purpose_moving               -0.007010\n",
       "sub_grade_C3                 -0.015637\n",
       "sub_grade_G4                 -0.024521\n",
       "sub_grade_G5                 -0.024802\n",
       "purpose_small_business       -0.026854\n",
       "sub_grade_G3                 -0.028148\n",
       "sub_grade_G2                 -0.030173\n",
       "sub_grade_C4                 -0.030630\n",
       "sub_grade_G1                 -0.034053\n",
       "sub_grade_C5                 -0.034891\n",
       "purpose_debt_consolidation   -0.034991\n",
       "sub_grade_D1                 -0.039847\n",
       "sub_grade_F5                 -0.040776\n",
       "sub_grade_F4                 -0.042458\n",
       "sub_grade_F3                 -0.043887\n",
       "sub_grade_D2                 -0.044497\n",
       "sub_grade_D3                 -0.046410\n",
       "sub_grade_F2                 -0.047933\n",
       "sub_grade_F1                 -0.049555\n",
       "sub_grade_D5                 -0.050986\n",
       "sub_grade_D4                 -0.051524\n",
       "sub_grade_E1                 -0.055115\n",
       "sub_grade_E4                 -0.056526\n",
       "sub_grade_E3                 -0.056555\n",
       "sub_grade_E5                 -0.057613\n",
       "sub_grade_E2                 -0.058016\n",
       "home_ownership_RENT          -0.063279\n",
       "installment                  -0.068247\n",
       "loan_amnt                    -0.084153\n",
       "term_in_months_60            -0.185476\n",
       "int_rate                     -0.262121\n",
       "Name: loan_status, dtype: float64"
      ]
     },
     "execution_count": 33,
     "metadata": {},
     "output_type": "execute_result"
    }
   ],
   "source": [
    "ohe_dataset.corr()[\"loan_status\"].sort_values(ascending = False)"
   ]
  },
  {
   "cell_type": "markdown",
   "metadata": {},
   "source": [
    "X"
   ]
  },
  {
   "cell_type": "code",
   "execution_count": 503,
   "metadata": {},
   "outputs": [],
   "source": [
    "# ohe_dataset = ohe_dataset.loc[:,[\"loan_status\",\"Log_annual_inc\",\"fico_range_high\", \"grade_B\", \"home_ownership_MORTGAGE\"]]"
   ]
  },
  {
   "cell_type": "code",
   "execution_count": 34,
   "metadata": {},
   "outputs": [],
   "source": [
    "X = ohe_dataset.drop('loan_status', axis=1)\n",
    "y = ohe_dataset['loan_status']"
   ]
  },
  {
   "cell_type": "code",
   "execution_count": 35,
   "metadata": {},
   "outputs": [],
   "source": [
    "from sklearn.ensemble import RandomForestClassifier\n",
    "from sklearn.metrics import accuracy_score, confusion_matrix, precision_score, recall_score, ConfusionMatrixDisplay\n",
    "from sklearn.model_selection import RandomizedSearchCV, train_test_split"
   ]
  },
  {
   "cell_type": "code",
   "execution_count": null,
   "metadata": {},
   "outputs": [],
   "source": [
    "scale = MinMaxScaler()\n",
    "\n",
    "X_train= scale.fit_transform(X_train)\n",
    "X_test = scale.transform(X_test)"
   ]
  },
  {
   "cell_type": "code",
   "execution_count": 36,
   "metadata": {},
   "outputs": [],
   "source": [
    "X_train, X_test, y_train, y_test = train_test_split(X, y, test_size=0.2)"
   ]
  },
  {
   "cell_type": "code",
   "execution_count": 37,
   "metadata": {},
   "outputs": [],
   "source": [
    "# from sklearn.preprocessing import MinMaxScaler\n",
    "# normalize = MinMaxScaler()\n",
    "# X_train = normalize.fit_transform(X_train)\n",
    "# X_test = normalize.fit_transform(X_test)"
   ]
  },
  {
   "cell_type": "markdown",
   "metadata": {},
   "source": [
    "Random Forest Classifier"
   ]
  },
  {
   "cell_type": "code",
   "execution_count": 38,
   "metadata": {},
   "outputs": [
    {
     "data": {
      "text/html": [
       "<style>#sk-container-id-1 {color: black;}#sk-container-id-1 pre{padding: 0;}#sk-container-id-1 div.sk-toggleable {background-color: white;}#sk-container-id-1 label.sk-toggleable__label {cursor: pointer;display: block;width: 100%;margin-bottom: 0;padding: 0.3em;box-sizing: border-box;text-align: center;}#sk-container-id-1 label.sk-toggleable__label-arrow:before {content: \"▸\";float: left;margin-right: 0.25em;color: #696969;}#sk-container-id-1 label.sk-toggleable__label-arrow:hover:before {color: black;}#sk-container-id-1 div.sk-estimator:hover label.sk-toggleable__label-arrow:before {color: black;}#sk-container-id-1 div.sk-toggleable__content {max-height: 0;max-width: 0;overflow: hidden;text-align: left;background-color: #f0f8ff;}#sk-container-id-1 div.sk-toggleable__content pre {margin: 0.2em;color: black;border-radius: 0.25em;background-color: #f0f8ff;}#sk-container-id-1 input.sk-toggleable__control:checked~div.sk-toggleable__content {max-height: 200px;max-width: 100%;overflow: auto;}#sk-container-id-1 input.sk-toggleable__control:checked~label.sk-toggleable__label-arrow:before {content: \"▾\";}#sk-container-id-1 div.sk-estimator input.sk-toggleable__control:checked~label.sk-toggleable__label {background-color: #d4ebff;}#sk-container-id-1 div.sk-label input.sk-toggleable__control:checked~label.sk-toggleable__label {background-color: #d4ebff;}#sk-container-id-1 input.sk-hidden--visually {border: 0;clip: rect(1px 1px 1px 1px);clip: rect(1px, 1px, 1px, 1px);height: 1px;margin: -1px;overflow: hidden;padding: 0;position: absolute;width: 1px;}#sk-container-id-1 div.sk-estimator {font-family: monospace;background-color: #f0f8ff;border: 1px dotted black;border-radius: 0.25em;box-sizing: border-box;margin-bottom: 0.5em;}#sk-container-id-1 div.sk-estimator:hover {background-color: #d4ebff;}#sk-container-id-1 div.sk-parallel-item::after {content: \"\";width: 100%;border-bottom: 1px solid gray;flex-grow: 1;}#sk-container-id-1 div.sk-label:hover label.sk-toggleable__label {background-color: #d4ebff;}#sk-container-id-1 div.sk-serial::before {content: \"\";position: absolute;border-left: 1px solid gray;box-sizing: border-box;top: 0;bottom: 0;left: 50%;z-index: 0;}#sk-container-id-1 div.sk-serial {display: flex;flex-direction: column;align-items: center;background-color: white;padding-right: 0.2em;padding-left: 0.2em;position: relative;}#sk-container-id-1 div.sk-item {position: relative;z-index: 1;}#sk-container-id-1 div.sk-parallel {display: flex;align-items: stretch;justify-content: center;background-color: white;position: relative;}#sk-container-id-1 div.sk-item::before, #sk-container-id-1 div.sk-parallel-item::before {content: \"\";position: absolute;border-left: 1px solid gray;box-sizing: border-box;top: 0;bottom: 0;left: 50%;z-index: -1;}#sk-container-id-1 div.sk-parallel-item {display: flex;flex-direction: column;z-index: 1;position: relative;background-color: white;}#sk-container-id-1 div.sk-parallel-item:first-child::after {align-self: flex-end;width: 50%;}#sk-container-id-1 div.sk-parallel-item:last-child::after {align-self: flex-start;width: 50%;}#sk-container-id-1 div.sk-parallel-item:only-child::after {width: 0;}#sk-container-id-1 div.sk-dashed-wrapped {border: 1px dashed gray;margin: 0 0.4em 0.5em 0.4em;box-sizing: border-box;padding-bottom: 0.4em;background-color: white;}#sk-container-id-1 div.sk-label label {font-family: monospace;font-weight: bold;display: inline-block;line-height: 1.2em;}#sk-container-id-1 div.sk-label-container {text-align: center;}#sk-container-id-1 div.sk-container {/* jupyter's `normalize.less` sets `[hidden] { display: none; }` but bootstrap.min.css set `[hidden] { display: none !important; }` so we also need the `!important` here to be able to override the default hidden behavior on the sphinx rendered scikit-learn.org. See: https://github.com/scikit-learn/scikit-learn/issues/21755 */display: inline-block !important;position: relative;}#sk-container-id-1 div.sk-text-repr-fallback {display: none;}</style><div id=\"sk-container-id-1\" class=\"sk-top-container\"><div class=\"sk-text-repr-fallback\"><pre>RandomForestClassifier()</pre><b>In a Jupyter environment, please rerun this cell to show the HTML representation or trust the notebook. <br />On GitHub, the HTML representation is unable to render, please try loading this page with nbviewer.org.</b></div><div class=\"sk-container\" hidden><div class=\"sk-item\"><div class=\"sk-estimator sk-toggleable\"><input class=\"sk-toggleable__control sk-hidden--visually\" id=\"sk-estimator-id-1\" type=\"checkbox\" checked><label for=\"sk-estimator-id-1\" class=\"sk-toggleable__label sk-toggleable__label-arrow\">RandomForestClassifier</label><div class=\"sk-toggleable__content\"><pre>RandomForestClassifier()</pre></div></div></div></div></div>"
      ],
      "text/plain": [
       "RandomForestClassifier()"
      ]
     },
     "execution_count": 38,
     "metadata": {},
     "output_type": "execute_result"
    }
   ],
   "source": [
    "rf = RandomForestClassifier()\n",
    "rf.fit(X_train, y_train)"
   ]
  },
  {
   "cell_type": "code",
   "execution_count": 39,
   "metadata": {},
   "outputs": [],
   "source": [
    "y_pred_test = rf.predict(X_test)"
   ]
  },
  {
   "cell_type": "code",
   "execution_count": 40,
   "metadata": {},
   "outputs": [
    {
     "data": {
      "text/plain": [
       "0.7950775483121838"
      ]
     },
     "execution_count": 40,
     "metadata": {},
     "output_type": "execute_result"
    }
   ],
   "source": [
    "accuracy_score(y_test, y_pred_test)"
   ]
  },
  {
   "cell_type": "code",
   "execution_count": 45,
   "metadata": {},
   "outputs": [
    {
     "data": {
      "text/plain": [
       "array([1.06380212e-01, 1.20768208e-01, 1.37171563e-01, 1.13763047e-01,\n",
       "       9.46858705e-02, 1.72692531e-01, 1.13518617e-01, 1.64794700e-03,\n",
       "       1.21411713e-03, 1.77257753e-03, 2.00528042e-03, 1.65445633e-03,\n",
       "       1.78073458e-03, 1.80599894e-03, 2.02482208e-03, 2.19157170e-03,\n",
       "       2.59326438e-03, 2.77566110e-03, 2.77326169e-03, 2.89798330e-03,\n",
       "       2.98730969e-03, 2.77943769e-03, 2.65295707e-03, 2.54391527e-03,\n",
       "       2.56896106e-03, 2.33616914e-03, 2.28143572e-03, 2.22691259e-03,\n",
       "       2.02043752e-03, 1.75994526e-03, 1.75169884e-03, 1.25730927e-03,\n",
       "       1.12709070e-03, 9.29201218e-04, 7.84621998e-04, 7.28834488e-04,\n",
       "       5.78853639e-04, 4.70832561e-04, 3.55347528e-04, 3.27894985e-04,\n",
       "       2.94978388e-04, 1.74973810e-04, 8.33851501e-03, 9.01708574e-03,\n",
       "       8.43699229e-03, 1.14642219e-02, 7.11488859e-05, 5.50929664e-03,\n",
       "       1.52110488e-03, 3.36466979e-03, 2.45192839e-03, 1.65684316e-03,\n",
       "       5.70031775e-03, 3.67808848e-04, 2.75320858e-03, 1.50023714e-03,\n",
       "       4.50566116e-04, 1.83392113e-02])"
      ]
     },
     "execution_count": 45,
     "metadata": {},
     "output_type": "execute_result"
    }
   ],
   "source": [
    "rf.feature_importances_"
   ]
  },
  {
   "cell_type": "markdown",
   "metadata": {},
   "source": [
    "Logistic Regression"
   ]
  },
  {
   "cell_type": "code",
   "execution_count": 41,
   "metadata": {},
   "outputs": [
    {
     "data": {
      "text/plain": [
       "0.7995065107406486"
      ]
     },
     "execution_count": 41,
     "metadata": {},
     "output_type": "execute_result"
    }
   ],
   "source": [
    "from sklearn.linear_model import LogisticRegression\n",
    "\n",
    "lr = LogisticRegression()\n",
    "lr.fit(X_train, y_train)\n",
    "y_pred_test = lr.predict(X_test)\n",
    "accuracy_score(y_test, y_pred_test)"
   ]
  }
 ],
 "metadata": {
  "kernelspec": {
   "display_name": "Python 3",
   "language": "python",
   "name": "python3"
  },
  "language_info": {
   "codemirror_mode": {
    "name": "ipython",
    "version": 3
   },
   "file_extension": ".py",
   "mimetype": "text/x-python",
   "name": "python",
   "nbconvert_exporter": "python",
   "pygments_lexer": "ipython3",
   "version": "3.9.18"
  }
 },
 "nbformat": 4,
 "nbformat_minor": 2
}
